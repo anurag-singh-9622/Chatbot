{
  "cells": [
    {
      "cell_type": "code",
      "execution_count": 1,
      "metadata": {
        "colab": {
          "base_uri": "https://localhost:8080/"
        },
        "collapsed": true,
        "id": "zWF4drgO9W4H",
        "outputId": "4eecdebc-3fae-4528-83a8-4c8852e06233"
      },
      "outputs": [
        {
          "name": "stdout",
          "output_type": "stream",
          "text": [
            "Note: you may need to restart the kernel to use updated packages.\n"
          ]
        },
        {
          "name": "stderr",
          "output_type": "stream",
          "text": [
            "\n",
            "[notice] A new release of pip is available: 23.0.1 -> 24.0\n",
            "[notice] To update, run: python.exe -m pip install --upgrade pip\n"
          ]
        }
      ],
      "source": [
        "%pip install openai --quiet"
      ]
    },
    {
      "cell_type": "code",
      "execution_count": 25,
      "metadata": {
        "id": "B7B7K24Y8gO1"
      },
      "outputs": [],
      "source": [
        "from openai import OpenAI\n",
        "\n",
        "client = OpenAI()\n",
        "\n",
        "assistant = client.beta.assistants.create(\n",
        "  name=\"Code Documentor\",\n",
        "  instructions=\"You are an expert code documentor, you create code documents in markdown format, these documnent will be used to teach new commers and also to remember what is happening inside the code.  \",\n",
        "  model=\"gpt-3.5-turbo\",\n",
        "  tools=[{\"type\": \"file_search\"}],\n",
        ")"
      ]
    },
    {
      "cell_type": "code",
      "execution_count": 22,
      "metadata": {
        "colab": {
          "base_uri": "https://localhost:8080/"
        },
        "id": "-CsMv-Lz9jJN",
        "outputId": "0d458488-d4a6-4ace-a0ab-e8df71513169"
      },
      "outputs": [
        {
          "name": "stdout",
          "output_type": "stream",
          "text": [
            "1 = VectorStoreFile(id='file-9CKi0nHlpgd5HGvypd65j05P', created_at=1715662037, last_error=None, object='vector_store.file', status='completed', usage_bytes=3176, vector_store_id='vs_pezEMD2D2SjDwp18AHyRrF7Y')\n",
            "2 = VectorStoreFile(id='file-CXdDJXZwuohpusQtQuNj2qNE', created_at=1715662037, last_error=None, object='vector_store.file', status='completed', usage_bytes=1552, vector_store_id='vs_pezEMD2D2SjDwp18AHyRrF7Y')\n"
          ]
        }
      ],
      "source": [
        "# Create a vector store caled \"Financial Statements\"\n",
        "# vector_store = client.beta.vector_stores.create(name=\"Financial Statements\")\n",
        "\n",
        "# Ready the files for upload to OpenAI\n",
        "# file_paths = [\"push_to_confluence.py\", \"about_ptoc.txt\"]\n",
        "# file_streams = [open(path, \"rb\") for path in file_paths]\n",
        "\n",
        "# Use the upload and poll SDK helper to upload the files, add them to the vector store,\n",
        "# and poll the status of the file batch for completion.\n",
        "# file_batch = client.beta.vector_stores.file_batches.upload_and_poll(\n",
        "#   vector_store_id=vector_store.id, files=file_streams\n",
        "# )\n",
        "\n",
        "# You can print the status and the file counts of the batch to see the result of this operation.\n",
        "# print(file_batch.status)\n",
        "# print(file_batch.file_counts)\n",
        "\n",
        "files = client.beta.vector_stores.files.list(vector_store_id='vs_pezEMD2D2SjDwp18AHyRrF7Y')\n",
        "for i, files in enumerate(files.data):\n",
        "    print(f\"{i+1} = {files}\")\n",
        "    # print(client.beta.vector_stores.files.retrieve(file_id=files.id, vector_store_id='vs_pezEMD2D2SjDwp18AHyRrF7Y'))\n",
        "\n",
        "vector_store_id = ''\n",
        "# assistant_id = ''"
      ]
    },
    {
      "cell_type": "code",
      "execution_count": 26,
      "metadata": {
        "id": "7opJE9UT-gY4"
      },
      "outputs": [],
      "source": [
        "# @title Default title text\n",
        "assistant = client.beta.assistants.update(\n",
        "  assistant_id=assistant.id,\n",
        "  tool_resources={\"file_search\": {\"vector_store_ids\": [vector_store_id]}},\n",
        ")"
      ]
    },
    {
      "cell_type": "code",
      "execution_count": 27,
      "metadata": {
        "colab": {
          "base_uri": "https://localhost:8080/"
        },
        "id": "2nHfoJGY-lWI",
        "outputId": "9f140d5f-9361-4659-9324-8489239aa1c5"
      },
      "outputs": [
        {
          "name": "stdout",
          "output_type": "stream",
          "text": [
            "None\n"
          ]
        }
      ],
      "source": [
        "# @title Default title text\n",
        "# Upload the user provided file to OpenAI\n",
        "# message_file = client.files.create(\n",
        "#   file=open(\"file3.txt\", \"rb\"), purpose=\"assistants\"\n",
        "# )\n",
        "vector_store_id = ''\n",
        "# assistant_id = ''\n",
        "\n",
        "prompt = 'Generate a code document for the code push_to_confluence.py' # @param {type:\"string\"}\n",
        "# Create a thread and attach the file to the message\n",
        "thread = client.beta.threads.create(\n",
        "  messages=[\n",
        "    {\n",
        "      \"role\": \"user\",\n",
        "      \"content\": prompt ,\n",
        "      # Attach the new file to the message.\n",
        "      # \"attachments\": [\n",
        "      #   { \"file_id\": message_file.id, \"tools\": [{\"type\": \"file_search\"}] }\n",
        "      # ],\n",
        "    }\n",
        "  ]\n",
        ")\n",
        "\n",
        "# The thread now has a vector store with that file in its tool resources.\n",
        "print(thread.tool_resources.file_search)"
      ]
    },
    {
      "cell_type": "code",
      "execution_count": 28,
      "metadata": {
        "colab": {
          "base_uri": "https://localhost:8080/"
        },
        "id": "FbgOeffs-5N5",
        "outputId": "d314817f-8ab5-47d7-eb20-d8deb2d45bd2"
      },
      "outputs": [],
      "source": [
        "# Use the create and poll SDK helper to create a run and poll the status of\n",
        "# the run until it's in a terminal state.\n",
        "\n",
        "run = client.beta.threads.runs.create_and_poll(\n",
        "    thread_id=thread.id, assistant_id=assistant.id\n",
        ")\n",
        "\n",
        "messages = list(client.beta.threads.messages.list(thread_id=thread.id, run_id=run.id))\n",
        "\n",
        "message_content = messages[0].content[0].text\n",
        "annotations = message_content.annotations\n",
        "citations = []\n",
        "for index, annotation in enumerate(annotations):\n",
        "    message_content.value = message_content.value.replace(annotation.text, f\"[{index}]\")\n",
        "    if file_citation := getattr(annotation, \"file_citation\", None):\n",
        "        cited_file = client.files.retrieve(file_citation.file_id)\n",
        "        citations.append(f\"[{index}] {cited_file.filename}\")\n",
        "\n"
      ]
    },
    {
      "cell_type": "code",
      "execution_count": 30,
      "metadata": {
        "id": "Kd4cLQcV_lx_"
      },
      "outputs": [
        {
          "name": "stdout",
          "output_type": "stream",
          "text": [
            "### Code Document for push_to_confluence.py\n",
            "\n",
            "The `push_to_confluence.py` file is designed to push a markdown format file into a Confluence page. Since Confluence does not support direct pushing of markdown files, this script converts the markdown content into HTML before pushing it to Confluence. Here is an overview of the key functions and operations within the script:\n",
            "\n",
            "#### Functions:\n",
            "1. **clear_submit()**:\n",
            "   - Function to set the submit state in the Streamlit session state.\n",
            "\n",
            "2. **confluence()**:\n",
            "   - Main function responsible for pushing content to Confluence.\n",
            "   - Parameters:\n",
            "     - `confluence_url`: URL of the Confluence instance.\n",
            "     - `space_key`: Key of the Confluence space.\n",
            "     - `username`: User name for authentication.\n",
            "     - `api_token`: API token for authentication.\n",
            "     - `page_title`: Title of the Confluence page.\n",
            "     - `mark_data`: Content in markdown format to be converted and pushed to Confluence.\n",
            "   - Converts the markdown content to HTML, prepares the data for the API request, and sends a POST request to create the Confluence page.\n",
            "   - Handles different HTTP response status codes to provide appropriate feedback to the user.\n",
            "\n",
            "#### Workflow:\n",
            "1. User input collection:\n",
            "   - The script prompts the user to input the Confluence URL, space key, username, API token, and the page title.\n",
            "   \n",
            "2. Markdown to HTML Conversion:\n",
            "   - The markdown content provided by the user is converted to HTML using the `markdown` module.\n",
            "\n",
            "3. API Request Preparation:\n",
            "   - Data is structured to match the requirements of the Confluence API for creating a new page with the HTML content.\n",
            "\n",
            "4. API Request and Response Handling:\n",
            "   - The script sends a POST request to the Confluence API with the prepared data.\n",
            "   - Based on the response status code, the script displays success messages for page creation or appropriate error messages if the page already exists or if there are other issues with the request.\n",
            "\n",
            "The script serves as a convenient tool for Streamlit users to seamlessly push markdown content to Confluence by handling the necessary conversions and API interactions.\n",
            "\n",
            "For more details, refer to the `push_to_confluence.py` file and its functionalities[0].\n",
            "[0] push_to_confluence.py\n",
            "Usage(completion_tokens=477, prompt_tokens=2255, total_tokens=2732)\n"
          ]
        }
      ],
      "source": [
        "print(message_content.value)\n",
        "print(\"\\n\".join(citations))\n",
        "print(run.usage)"
      ]
    },
    {
      "cell_type": "code",
      "execution_count": null,
      "metadata": {},
      "outputs": [],
      "source": []
    }
  ],
  "metadata": {
    "colab": {
      "provenance": []
    },
    "kernelspec": {
      "display_name": "Python 3",
      "name": "python3"
    },
    "language_info": {
      "codemirror_mode": {
        "name": "ipython",
        "version": 3
      },
      "file_extension": ".py",
      "mimetype": "text/x-python",
      "name": "python",
      "nbconvert_exporter": "python",
      "pygments_lexer": "ipython3",
      "version": "3.10.11"
    }
  },
  "nbformat": 4,
  "nbformat_minor": 0
}
